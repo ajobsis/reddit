{
 "cells": [
  {
   "cell_type": "code",
   "execution_count": 1,
   "id": "96667d48",
   "metadata": {},
   "outputs": [],
   "source": [
    "# imports\n",
    "import praw\n",
    "import csv\n",
    "import os\n",
    "import pandas as pd\n",
    "from datetime import datetime"
   ]
  },
  {
   "cell_type": "code",
   "execution_count": 2,
   "id": "c5b1024f",
   "metadata": {},
   "outputs": [],
   "source": [
    "csv_file = '../data/reddit.csv'"
   ]
  },
  {
   "cell_type": "code",
   "execution_count": 3,
   "id": "9526c365",
   "metadata": {},
   "outputs": [
    {
     "name": "stderr",
     "output_type": "stream",
     "text": [
      "Version 7.5.0 of praw is outdated. Version 7.6.0 was released Tuesday May 10, 2022.\n"
     ]
    }
   ],
   "source": [
    "# authenticate\n",
    "reddit = praw.Reddit(\n",
    "    client_id=\"eJw2YBhImL4Ke1S1wDl4Ww\",\n",
    "    client_secret=\"AqFdN5deIGfCp72_-I6xRjnifAyoQg\", \n",
    "    user_agent=\"anna jobsis project 3\")"
   ]
  },
  {
   "cell_type": "code",
   "execution_count": 4,
   "id": "27b44186",
   "metadata": {},
   "outputs": [],
   "source": [
    "# instantiate\n",
    "reddits = reddit.subreddit('all').hot(limit=None)"
   ]
  },
  {
   "cell_type": "code",
   "execution_count": 5,
   "id": "f166b614",
   "metadata": {},
   "outputs": [
    {
     "name": "stdout",
     "output_type": "stream",
     "text": [
      "done!\n"
     ]
    }
   ],
   "source": [
    "# create csv\n",
    "headers = ['id', 'author', 'title', 'created', 'num_comments', 'subreddit']\n",
    "with open(csv_file, 'a') as f:\n",
    "    writer = csv.DictWriter(f, fieldnames=headers)\n",
    "    if os.stat(csv_file).st_size == 0:\n",
    "        writer.writeheader()\n",
    "    for r in reddits:\n",
    "                'author': r.author, \n",
    "                'title': r.title, \n",
    "                'created': r.created_utc, \n",
    "                'num_comments': r.num_comments,\n",
    "               'subreddit': r.subreddit\n",
    "        writer.writerow(data)  \n",
    "print(\"done!\")"
   ]
  },
  {
   "cell_type": "code",
   "execution_count": 5,
   "id": "4a7d4145",
   "metadata": {},
   "outputs": [],
   "source": [
    "reddit = pd.read_csv('../data/reddit.csv')"
   ]
  },
  {
   "cell_type": "code",
   "execution_count": 6,
   "id": "f3af16ad",
   "metadata": {},
   "outputs": [
    {
     "data": {
      "text/html": [
       "<div>\n",
       "<style scoped>\n",
       "    .dataframe tbody tr th:only-of-type {\n",
       "        vertical-align: middle;\n",
       "    }\n",
       "\n",
       "    .dataframe tbody tr th {\n",
       "        vertical-align: top;\n",
       "    }\n",
       "\n",
       "    .dataframe thead th {\n",
       "        text-align: right;\n",
       "    }\n",
       "</style>\n",
       "<table border=\"1\" class=\"dataframe\">\n",
       "  <thead>\n",
       "    <tr style=\"text-align: right;\">\n",
       "      <th></th>\n",
       "      <th>author</th>\n",
       "      <th>title</th>\n",
       "      <th>created</th>\n",
       "      <th>num_comments</th>\n",
       "      <th>subreddit</th>\n",
       "    </tr>\n",
       "  </thead>\n",
       "  <tbody>\n",
       "    <tr>\n",
       "      <th>0</th>\n",
       "      <td>MrChris680</td>\n",
       "      <td>I got new teeth today after having bad teeth m...</td>\n",
       "      <td>1.653593e+09</td>\n",
       "      <td>2385</td>\n",
       "      <td>MadeMeSmile</td>\n",
       "    </tr>\n",
       "    <tr>\n",
       "      <th>1</th>\n",
       "      <td>superpouper</td>\n",
       "      <td>These folks were quacking for food but specifi...</td>\n",
       "      <td>1.653596e+09</td>\n",
       "      <td>300</td>\n",
       "      <td>ChoosingBeggars</td>\n",
       "    </tr>\n",
       "    <tr>\n",
       "      <th>2</th>\n",
       "      <td>180secondideas</td>\n",
       "      <td>My avocado today was 11/10.</td>\n",
       "      <td>1.653591e+09</td>\n",
       "      <td>582</td>\n",
       "      <td>oddlysatisfying</td>\n",
       "    </tr>\n",
       "    <tr>\n",
       "      <th>3</th>\n",
       "      <td>twolf1</td>\n",
       "      <td>Husband of teacher killed in Texas school shoo...</td>\n",
       "      <td>1.653589e+09</td>\n",
       "      <td>2445</td>\n",
       "      <td>news</td>\n",
       "    </tr>\n",
       "    <tr>\n",
       "      <th>4</th>\n",
       "      <td>avhir0ck</td>\n",
       "      <td>Retribution of Issac ‘MF’ Wright</td>\n",
       "      <td>1.653597e+09</td>\n",
       "      <td>167</td>\n",
       "      <td>Damnthatsinteresting</td>\n",
       "    </tr>\n",
       "  </tbody>\n",
       "</table>\n",
       "</div>"
      ],
      "text/plain": [
       "           author                                              title  \\\n",
       "0      MrChris680  I got new teeth today after having bad teeth m...   \n",
       "1     superpouper  These folks were quacking for food but specifi...   \n",
       "2  180secondideas                        My avocado today was 11/10.   \n",
       "3          twolf1  Husband of teacher killed in Texas school shoo...   \n",
       "4        avhir0ck                   Retribution of Issac ‘MF’ Wright   \n",
       "\n",
       "        created  num_comments             subreddit  \n",
       "0  1.653593e+09          2385           MadeMeSmile  \n",
       "1  1.653596e+09           300       ChoosingBeggars  \n",
       "2  1.653591e+09           582       oddlysatisfying  \n",
       "3  1.653589e+09          2445                  news  \n",
       "4  1.653597e+09           167  Damnthatsinteresting  "
      ]
     },
     "execution_count": 6,
     "metadata": {},
     "output_type": "execute_result"
    }
   ],
   "source": [
    "# check head\n",
    "reddit.head()"
   ]
  },
  {
   "cell_type": "code",
   "execution_count": 26,
   "id": "e69b3b29",
   "metadata": {},
   "outputs": [
    {
     "data": {
      "text/html": [
       "<div>\n",
       "<style scoped>\n",
       "    .dataframe tbody tr th:only-of-type {\n",
       "        vertical-align: middle;\n",
       "    }\n",
       "\n",
       "    .dataframe tbody tr th {\n",
       "        vertical-align: top;\n",
       "    }\n",
       "\n",
       "    .dataframe thead th {\n",
       "        text-align: right;\n",
       "    }\n",
       "</style>\n",
       "<table border=\"1\" class=\"dataframe\">\n",
       "  <thead>\n",
       "    <tr style=\"text-align: right;\">\n",
       "      <th></th>\n",
       "      <th>author</th>\n",
       "      <th>created</th>\n",
       "      <th>num_comments</th>\n",
       "      <th>subreddit</th>\n",
       "    </tr>\n",
       "    <tr>\n",
       "      <th>title</th>\n",
       "      <th></th>\n",
       "      <th></th>\n",
       "      <th></th>\n",
       "      <th></th>\n",
       "    </tr>\n",
       "  </thead>\n",
       "  <tbody>\n",
       "    <tr>\n",
       "      <th>Indian Premier League Predictions Tournament</th>\n",
       "      <td>1</td>\n",
       "      <td>1</td>\n",
       "      <td>1</td>\n",
       "      <td>1</td>\n",
       "    </tr>\n",
       "    <tr>\n",
       "      <th>Take this, and grow fat from strength</th>\n",
       "      <td>1</td>\n",
       "      <td>1</td>\n",
       "      <td>1</td>\n",
       "      <td>1</td>\n",
       "    </tr>\n",
       "    <tr>\n",
       "      <th>Taken last January 12, 2016 few months before Pnoy's steps down as president.</th>\n",
       "      <td>1</td>\n",
       "      <td>1</td>\n",
       "      <td>1</td>\n",
       "      <td>1</td>\n",
       "    </tr>\n",
       "    <tr>\n",
       "      <th>Takes me back to my childhood days</th>\n",
       "      <td>1</td>\n",
       "      <td>1</td>\n",
       "      <td>1</td>\n",
       "      <td>1</td>\n",
       "    </tr>\n",
       "    <tr>\n",
       "      <th>Taking Cues From Texas, California Proposes Its Own Bounty Law—Against Guns: If it passes, the Golden State would set up a confrontation with the Supreme Court, which blessed the Lone Star State’s anti-abortion law.</th>\n",
       "      <td>1</td>\n",
       "      <td>1</td>\n",
       "      <td>1</td>\n",
       "      <td>1</td>\n",
       "    </tr>\n",
       "    <tr>\n",
       "      <th>...</th>\n",
       "      <td>...</td>\n",
       "      <td>...</td>\n",
       "      <td>...</td>\n",
       "      <td>...</td>\n",
       "    </tr>\n",
       "    <tr>\n",
       "      <th>2022 Wanda would’ve absolutely destroyed Thanos</th>\n",
       "      <td>0</td>\n",
       "      <td>1</td>\n",
       "      <td>1</td>\n",
       "      <td>1</td>\n",
       "    </tr>\n",
       "    <tr>\n",
       "      <th>Recreational Sleeps</th>\n",
       "      <td>0</td>\n",
       "      <td>1</td>\n",
       "      <td>1</td>\n",
       "      <td>1</td>\n",
       "    </tr>\n",
       "    <tr>\n",
       "      <th>Being A Lesbian At The Doctors</th>\n",
       "      <td>0</td>\n",
       "      <td>1</td>\n",
       "      <td>1</td>\n",
       "      <td>1</td>\n",
       "    </tr>\n",
       "    <tr>\n",
       "      <th>Finished Hand Painting the Bloodborne Board Game Miniatures!</th>\n",
       "      <td>0</td>\n",
       "      <td>1</td>\n",
       "      <td>1</td>\n",
       "      <td>1</td>\n",
       "    </tr>\n",
       "    <tr>\n",
       "      <th>Can’t leave my house, damn near fell to my demise.</th>\n",
       "      <td>0</td>\n",
       "      <td>1</td>\n",
       "      <td>1</td>\n",
       "      <td>1</td>\n",
       "    </tr>\n",
       "  </tbody>\n",
       "</table>\n",
       "<p>13819 rows × 4 columns</p>\n",
       "</div>"
      ],
      "text/plain": [
       "                                                    author  created  \\\n",
       "title                                                                 \n",
       " Indian Premier League Predictions Tournament            1        1   \n",
       "Take this, and grow fat from strength                    1        1   \n",
       "Taken last January 12, 2016 few months before P...       1        1   \n",
       "Takes me back to my childhood days                       1        1   \n",
       "Taking Cues From Texas, California Proposes Its...       1        1   \n",
       "...                                                    ...      ...   \n",
       "2022 Wanda would’ve absolutely destroyed Thanos          0        1   \n",
       "Recreational Sleeps                                      0        1   \n",
       "Being A Lesbian At The Doctors                           0        1   \n",
       "Finished Hand Painting the Bloodborne Board Gam...       0        1   \n",
       "Can’t leave my house, damn near fell to my demise.       0        1   \n",
       "\n",
       "                                                    num_comments  subreddit  \n",
       "title                                                                        \n",
       " Indian Premier League Predictions Tournament                  1          1  \n",
       "Take this, and grow fat from strength                          1          1  \n",
       "Taken last January 12, 2016 few months before P...             1          1  \n",
       "Takes me back to my childhood days                             1          1  \n",
       "Taking Cues From Texas, California Proposes Its...             1          1  \n",
       "...                                                          ...        ...  \n",
       "2022 Wanda would’ve absolutely destroyed Thanos                1          1  \n",
       "Recreational Sleeps                                            1          1  \n",
       "Being A Lesbian At The Doctors                                 1          1  \n",
       "Finished Hand Painting the Bloodborne Board Gam...             1          1  \n",
       "Can’t leave my house, damn near fell to my demise.             1          1  \n",
       "\n",
       "[13819 rows x 4 columns]"
      ]
     },
     "execution_count": 26,
     "metadata": {},
     "output_type": "execute_result"
    }
   ],
   "source": [
    "# check duplicated titles\n",
    "reddit.groupby('title').count().sort_values('author', ascending=False)"
   ]
  },
  {
   "cell_type": "code",
   "execution_count": 10,
   "id": "8935941f",
   "metadata": {},
   "outputs": [],
   "source": [
    "# drop duplicates\n",
    "reddit.drop_duplicates(subset='title', keep=\"last\", inplace=True)"
   ]
  },
  {
   "cell_type": "code",
   "execution_count": 42,
   "id": "484f5e19",
   "metadata": {},
   "outputs": [],
   "source": [
    "# drop 5 records of author == NaN\n",
    "reddit = reddit[reddit['author'].notna()]"
   ]
  },
  {
   "cell_type": "code",
   "execution_count": 55,
   "id": "f24c6753",
   "metadata": {},
   "outputs": [
    {
     "data": {
      "text/plain": [
       "2535        Finally got my ingrown toenail removed by Dr.!\n",
       "7237     A male patient has an impressively-massive for...\n",
       "9032                            Pov: You removed a feature\n",
       "9134     When is the second item getting removed so I c...\n",
       "9256     Was it easy? No. Was it worth it? Absolutely. ...\n",
       "10610    Portions of the destroyed AN225 are being remo...\n",
       "13013    Sainz being removed from his car in a state of...\n",
       "Name: title, dtype: object"
      ]
     },
     "execution_count": 55,
     "metadata": {},
     "output_type": "execute_result"
    }
   ],
   "source": [
    "# inspect titles with \"removed\"\n",
    "reddit[reddit['title'].str.contains('removed')]['title']"
   ]
  },
  {
   "cell_type": "code",
   "execution_count": 56,
   "id": "3b17a31b",
   "metadata": {},
   "outputs": [],
   "source": [
    "# write out to csv\n",
    "reddit.to_csv(csv_file, index=False, chunksize=1000)"
   ]
  },
  {
   "cell_type": "code",
   "execution_count": 28,
   "id": "78e11881",
   "metadata": {},
   "outputs": [],
   "source": [
    "# calculate length of time post has been up for\n",
    "reddit['length_time'] = reddit['created'].apply(lambda x: datetime.utcnow()\\\n",
    "                      - datetime.utcfromtimestamp(x))\n"
   ]
  },
  {
   "cell_type": "code",
   "execution_count": 25,
   "id": "9b2ac875",
   "metadata": {},
   "outputs": [
    {
     "name": "stdout",
     "output_type": "stream",
     "text": [
      "done!\n"
     ]
    }
   ],
   "source": [
    "# write out to new csv\n",
    "reddit.to_csv('../data/reddit_cleaned.csv', index=False, chunksize=1000)\n",
    "print('done!')"
   ]
  },
  {
   "cell_type": "code",
   "execution_count": null,
   "id": "625a9853",
   "metadata": {},
   "outputs": [],
   "source": []
  }
 ],
 "metadata": {
  "kernelspec": {
   "display_name": "Python 3 (ipykernel)",
   "language": "python",
   "name": "python3"
  },
  "language_info": {
   "codemirror_mode": {
    "name": "ipython",
    "version": 3
   },
   "file_extension": ".py",
   "mimetype": "text/x-python",
   "name": "python",
   "nbconvert_exporter": "python",
   "pygments_lexer": "ipython3",
   "version": "3.9.7"
  }
 },
 "nbformat": 4,
 "nbformat_minor": 5
}
