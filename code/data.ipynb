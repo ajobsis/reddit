{
 "cells": [
  {
   "cell_type": "code",
   "execution_count": 1,
   "id": "96667d48",
   "metadata": {},
   "outputs": [],
   "source": [
    "# imports\n",
    "import praw\n",
    "import csv\n",
    "import os\n",
    "import pandas as pd\n",
    "from datetime import datetime"
   ]
  },
  {
   "cell_type": "code",
   "execution_count": 2,
   "id": "c5b1024f",
   "metadata": {},
   "outputs": [],
   "source": [
    "csv_file = '../data/reddit.csv'"
   ]
  },
  {
   "cell_type": "code",
   "execution_count": 3,
   "id": "9526c365",
   "metadata": {},
   "outputs": [
    {
     "name": "stderr",
     "output_type": "stream",
     "text": [
      "Version 7.5.0 of praw is outdated. Version 7.6.0 was released Tuesday May 10, 2022.\n"
     ]
    }
   ],
   "source": [
    "# authenticate\n",
    "reddit = praw.Reddit(\n",
    "    client_id=\"eJw2YBhImL4Ke1S1wDl4Ww\",\n",
    "    client_secret=\"AqFdN5deIGfCp72_-I6xRjnifAyoQg\", \n",
    "    user_agent=\"anna jobsis project 3\")"
   ]
  },
  {
   "cell_type": "code",
   "execution_count": 4,
   "id": "27b44186",
   "metadata": {},
   "outputs": [],
   "source": [
    "# instantiate\n",
    "reddits = reddit.subreddit('all').hot(limit=None)"
   ]
  },
  {
   "cell_type": "code",
   "execution_count": 5,
   "id": "f166b614",
   "metadata": {},
   "outputs": [
    {
     "name": "stdout",
     "output_type": "stream",
     "text": [
      "done!\n"
     ]
    }
   ],
   "source": [
    "# create csv\n",
    "headers = ['id', 'author', 'title', 'created', 'num_comments', 'subreddit']\n",
    "with open(csv_file, 'a') as f:\n",
    "    writer = csv.DictWriter(f, fieldnames=headers)\n",
    "    if os.stat(csv_file).st_size == 0:\n",
    "        writer.writeheader()\n",
    "    for r in reddits:\n",
    "                'author': r.author, \n",
    "                'title': r.title, \n",
    "                'created': r.created_utc, \n",
    "                'num_comments': r.num_comments,\n",
    "               'subreddit': r.subreddit\n",
    "        writer.writerow(data)  \n",
    "print(\"done!\")"
   ]
  },
  {
   "cell_type": "code",
   "execution_count": 6,
   "id": "4a7d4145",
   "metadata": {},
   "outputs": [],
   "source": [
    "reddit = pd.read_csv('../data/reddit.csv')"
   ]
  },
  {
   "cell_type": "code",
   "execution_count": 7,
   "id": "f3af16ad",
   "metadata": {},
   "outputs": [
    {
     "data": {
      "text/html": [
       "<div>\n",
       "<style scoped>\n",
       "    .dataframe tbody tr th:only-of-type {\n",
       "        vertical-align: middle;\n",
       "    }\n",
       "\n",
       "    .dataframe tbody tr th {\n",
       "        vertical-align: top;\n",
       "    }\n",
       "\n",
       "    .dataframe thead th {\n",
       "        text-align: right;\n",
       "    }\n",
       "</style>\n",
       "<table border=\"1\" class=\"dataframe\">\n",
       "  <thead>\n",
       "    <tr style=\"text-align: right;\">\n",
       "      <th></th>\n",
       "      <th>author</th>\n",
       "      <th>title</th>\n",
       "      <th>created</th>\n",
       "      <th>num_comments</th>\n",
       "      <th>subreddit</th>\n",
       "    </tr>\n",
       "  </thead>\n",
       "  <tbody>\n",
       "    <tr>\n",
       "      <th>0</th>\n",
       "      <td>Chum_Bucket_Employee</td>\n",
       "      <td>Found at a local brewery! Finally have somethi...</td>\n",
       "      <td>1.653597e+09</td>\n",
       "      <td>521</td>\n",
       "      <td>funny</td>\n",
       "    </tr>\n",
       "    <tr>\n",
       "      <th>1</th>\n",
       "      <td>MrChris680</td>\n",
       "      <td>I got new teeth today after having bad teeth m...</td>\n",
       "      <td>1.653593e+09</td>\n",
       "      <td>2344</td>\n",
       "      <td>MadeMeSmile</td>\n",
       "    </tr>\n",
       "    <tr>\n",
       "      <th>2</th>\n",
       "      <td>superpouper</td>\n",
       "      <td>These folks were quacking for food but specifi...</td>\n",
       "      <td>1.653596e+09</td>\n",
       "      <td>281</td>\n",
       "      <td>ChoosingBeggars</td>\n",
       "    </tr>\n",
       "    <tr>\n",
       "      <th>3</th>\n",
       "      <td>180secondideas</td>\n",
       "      <td>My avocado today was 11/10.</td>\n",
       "      <td>1.653591e+09</td>\n",
       "      <td>561</td>\n",
       "      <td>oddlysatisfying</td>\n",
       "    </tr>\n",
       "    <tr>\n",
       "      <th>4</th>\n",
       "      <td>twolf1</td>\n",
       "      <td>Husband of teacher killed in Texas school shoo...</td>\n",
       "      <td>1.653589e+09</td>\n",
       "      <td>2360</td>\n",
       "      <td>news</td>\n",
       "    </tr>\n",
       "  </tbody>\n",
       "</table>\n",
       "</div>"
      ],
      "text/plain": [
       "                 author                                              title  \\\n",
       "0  Chum_Bucket_Employee  Found at a local brewery! Finally have somethi...   \n",
       "1            MrChris680  I got new teeth today after having bad teeth m...   \n",
       "2           superpouper  These folks were quacking for food but specifi...   \n",
       "3        180secondideas                        My avocado today was 11/10.   \n",
       "4                twolf1  Husband of teacher killed in Texas school shoo...   \n",
       "\n",
       "        created  num_comments        subreddit  \n",
       "0  1.653597e+09           521            funny  \n",
       "1  1.653593e+09          2344      MadeMeSmile  \n",
       "2  1.653596e+09           281  ChoosingBeggars  \n",
       "3  1.653591e+09           561  oddlysatisfying  \n",
       "4  1.653589e+09          2360             news  "
      ]
     },
     "execution_count": 7,
     "metadata": {},
     "output_type": "execute_result"
    }
   ],
   "source": [
    "reddit.head()"
   ]
  },
  {
   "cell_type": "code",
   "execution_count": 8,
   "id": "8b75e13b",
   "metadata": {},
   "outputs": [
    {
     "data": {
      "text/plain": [
       "(14695, 5)"
      ]
     },
     "execution_count": 8,
     "metadata": {},
     "output_type": "execute_result"
    }
   ],
   "source": [
    "reddit.shape"
   ]
  },
  {
   "cell_type": "code",
   "execution_count": 10,
   "id": "8935941f",
   "metadata": {},
   "outputs": [],
   "source": [
    "# drop duplicates\n",
    "reddit.drop_duplicates(subset='title', keep=\"last\", inplace=True)"
   ]
  },
  {
   "cell_type": "code",
   "execution_count": 20,
   "id": "c7f4c461",
   "metadata": {},
   "outputs": [
    {
     "data": {
      "text/plain": [
       "24       False\n",
       "9904     False\n",
       "9905     False\n",
       "9906     False\n",
       "9907     False\n",
       "         ...  \n",
       "4998     False\n",
       "4999     False\n",
       "5000     False\n",
       "5003     False\n",
       "14694    False\n",
       "Length: 13819, dtype: bool"
      ]
     },
     "execution_count": 20,
     "metadata": {},
     "output_type": "execute_result"
    }
   ],
   "source": [
    "reddit.duplicated('title').sort_values(ascending=True)"
   ]
  },
  {
   "cell_type": "code",
   "execution_count": 21,
   "id": "3b17a31b",
   "metadata": {},
   "outputs": [
    {
     "name": "stdout",
     "output_type": "stream",
     "text": [
      "done!\n"
     ]
    }
   ],
   "source": [
    "# write out to new csv\n",
    "reddit.to_csv(csv_file, index=False, chunksize=1000)\n",
    "print('done!')"
   ]
  },
  {
   "cell_type": "code",
   "execution_count": 22,
   "id": "d7c62aa5",
   "metadata": {},
   "outputs": [
    {
     "data": {
      "text/html": [
       "<div>\n",
       "<style scoped>\n",
       "    .dataframe tbody tr th:only-of-type {\n",
       "        vertical-align: middle;\n",
       "    }\n",
       "\n",
       "    .dataframe tbody tr th {\n",
       "        vertical-align: top;\n",
       "    }\n",
       "\n",
       "    .dataframe thead th {\n",
       "        text-align: right;\n",
       "    }\n",
       "</style>\n",
       "<table border=\"1\" class=\"dataframe\">\n",
       "  <thead>\n",
       "    <tr style=\"text-align: right;\">\n",
       "      <th></th>\n",
       "      <th>author</th>\n",
       "      <th>title</th>\n",
       "      <th>created</th>\n",
       "      <th>num_comments</th>\n",
       "      <th>subreddit</th>\n",
       "    </tr>\n",
       "  </thead>\n",
       "  <tbody>\n",
       "    <tr>\n",
       "      <th>24</th>\n",
       "      <td>MrChris680</td>\n",
       "      <td>I got new teeth today after having bad teeth m...</td>\n",
       "      <td>1.653593e+09</td>\n",
       "      <td>2385</td>\n",
       "      <td>MadeMeSmile</td>\n",
       "    </tr>\n",
       "    <tr>\n",
       "      <th>25</th>\n",
       "      <td>superpouper</td>\n",
       "      <td>These folks were quacking for food but specifi...</td>\n",
       "      <td>1.653596e+09</td>\n",
       "      <td>300</td>\n",
       "      <td>ChoosingBeggars</td>\n",
       "    </tr>\n",
       "    <tr>\n",
       "      <th>26</th>\n",
       "      <td>180secondideas</td>\n",
       "      <td>My avocado today was 11/10.</td>\n",
       "      <td>1.653591e+09</td>\n",
       "      <td>582</td>\n",
       "      <td>oddlysatisfying</td>\n",
       "    </tr>\n",
       "    <tr>\n",
       "      <th>27</th>\n",
       "      <td>twolf1</td>\n",
       "      <td>Husband of teacher killed in Texas school shoo...</td>\n",
       "      <td>1.653589e+09</td>\n",
       "      <td>2445</td>\n",
       "      <td>news</td>\n",
       "    </tr>\n",
       "    <tr>\n",
       "      <th>28</th>\n",
       "      <td>avhir0ck</td>\n",
       "      <td>Retribution of Issac ‘MF’ Wright</td>\n",
       "      <td>1.653597e+09</td>\n",
       "      <td>167</td>\n",
       "      <td>Damnthatsinteresting</td>\n",
       "    </tr>\n",
       "  </tbody>\n",
       "</table>\n",
       "</div>"
      ],
      "text/plain": [
       "            author                                              title  \\\n",
       "24      MrChris680  I got new teeth today after having bad teeth m...   \n",
       "25     superpouper  These folks were quacking for food but specifi...   \n",
       "26  180secondideas                        My avocado today was 11/10.   \n",
       "27          twolf1  Husband of teacher killed in Texas school shoo...   \n",
       "28        avhir0ck                   Retribution of Issac ‘MF’ Wright   \n",
       "\n",
       "         created  num_comments             subreddit  \n",
       "24  1.653593e+09          2385           MadeMeSmile  \n",
       "25  1.653596e+09           300       ChoosingBeggars  \n",
       "26  1.653591e+09           582       oddlysatisfying  \n",
       "27  1.653589e+09          2445                  news  \n",
       "28  1.653597e+09           167  Damnthatsinteresting  "
      ]
     },
     "execution_count": 22,
     "metadata": {},
     "output_type": "execute_result"
    }
   ],
   "source": [
    "reddit.head()"
   ]
  },
  {
   "cell_type": "code",
   "execution_count": 23,
   "id": "78e11881",
   "metadata": {},
   "outputs": [],
   "source": [
    "# calculate length of time post has been up for\n",
    "reddit['length_time'] = reddit['created'].apply(lambda x: datetime.utcnow()\\\n",
    "                      - datetime.utcfromtimestamp(x))\n"
   ]
  },
  {
   "cell_type": "code",
   "execution_count": 24,
   "id": "17005155",
   "metadata": {},
   "outputs": [
    {
     "data": {
      "text/html": [
       "<div>\n",
       "<style scoped>\n",
       "    .dataframe tbody tr th:only-of-type {\n",
       "        vertical-align: middle;\n",
       "    }\n",
       "\n",
       "    .dataframe tbody tr th {\n",
       "        vertical-align: top;\n",
       "    }\n",
       "\n",
       "    .dataframe thead th {\n",
       "        text-align: right;\n",
       "    }\n",
       "</style>\n",
       "<table border=\"1\" class=\"dataframe\">\n",
       "  <thead>\n",
       "    <tr style=\"text-align: right;\">\n",
       "      <th></th>\n",
       "      <th>author</th>\n",
       "      <th>title</th>\n",
       "      <th>created</th>\n",
       "      <th>num_comments</th>\n",
       "      <th>subreddit</th>\n",
       "      <th>length_time</th>\n",
       "    </tr>\n",
       "  </thead>\n",
       "  <tbody>\n",
       "    <tr>\n",
       "      <th>24</th>\n",
       "      <td>MrChris680</td>\n",
       "      <td>I got new teeth today after having bad teeth m...</td>\n",
       "      <td>1.653593e+09</td>\n",
       "      <td>2385</td>\n",
       "      <td>MadeMeSmile</td>\n",
       "      <td>1 days 01:23:21.404966</td>\n",
       "    </tr>\n",
       "    <tr>\n",
       "      <th>25</th>\n",
       "      <td>superpouper</td>\n",
       "      <td>These folks were quacking for food but specifi...</td>\n",
       "      <td>1.653596e+09</td>\n",
       "      <td>300</td>\n",
       "      <td>ChoosingBeggars</td>\n",
       "      <td>1 days 00:36:07.404979</td>\n",
       "    </tr>\n",
       "    <tr>\n",
       "      <th>26</th>\n",
       "      <td>180secondideas</td>\n",
       "      <td>My avocado today was 11/10.</td>\n",
       "      <td>1.653591e+09</td>\n",
       "      <td>582</td>\n",
       "      <td>oddlysatisfying</td>\n",
       "      <td>1 days 01:58:54.404981</td>\n",
       "    </tr>\n",
       "    <tr>\n",
       "      <th>27</th>\n",
       "      <td>twolf1</td>\n",
       "      <td>Husband of teacher killed in Texas school shoo...</td>\n",
       "      <td>1.653589e+09</td>\n",
       "      <td>2445</td>\n",
       "      <td>news</td>\n",
       "      <td>1 days 02:38:40.404983</td>\n",
       "    </tr>\n",
       "    <tr>\n",
       "      <th>28</th>\n",
       "      <td>avhir0ck</td>\n",
       "      <td>Retribution of Issac ‘MF’ Wright</td>\n",
       "      <td>1.653597e+09</td>\n",
       "      <td>167</td>\n",
       "      <td>Damnthatsinteresting</td>\n",
       "      <td>1 days 00:20:41.404985</td>\n",
       "    </tr>\n",
       "  </tbody>\n",
       "</table>\n",
       "</div>"
      ],
      "text/plain": [
       "            author                                              title  \\\n",
       "24      MrChris680  I got new teeth today after having bad teeth m...   \n",
       "25     superpouper  These folks were quacking for food but specifi...   \n",
       "26  180secondideas                        My avocado today was 11/10.   \n",
       "27          twolf1  Husband of teacher killed in Texas school shoo...   \n",
       "28        avhir0ck                   Retribution of Issac ‘MF’ Wright   \n",
       "\n",
       "         created  num_comments             subreddit            length_time  \n",
       "24  1.653593e+09          2385           MadeMeSmile 1 days 01:23:21.404966  \n",
       "25  1.653596e+09           300       ChoosingBeggars 1 days 00:36:07.404979  \n",
       "26  1.653591e+09           582       oddlysatisfying 1 days 01:58:54.404981  \n",
       "27  1.653589e+09          2445                  news 1 days 02:38:40.404983  \n",
       "28  1.653597e+09           167  Damnthatsinteresting 1 days 00:20:41.404985  "
      ]
     },
     "execution_count": 24,
     "metadata": {},
     "output_type": "execute_result"
    }
   ],
   "source": [
    "reddit.head()"
   ]
  },
  {
   "cell_type": "code",
   "execution_count": 25,
   "id": "9b2ac875",
   "metadata": {},
   "outputs": [
    {
     "name": "stdout",
     "output_type": "stream",
     "text": [
      "done!\n"
     ]
    }
   ],
   "source": [
    "# write out to new csv\n",
    "reddit.to_csv('../data/reddit_cleaned.csv', index=False, chunksize=1000)\n",
    "print('done!')"
   ]
  },
  {
   "cell_type": "code",
   "execution_count": 29,
   "id": "1819f74a",
   "metadata": {},
   "outputs": [
    {
     "data": {
      "text/plain": [
       "24       False\n",
       "25       False\n",
       "26       False\n",
       "27       False\n",
       "28       False\n",
       "         ...  \n",
       "14690    False\n",
       "14691    False\n",
       "14692    False\n",
       "14693    False\n",
       "14694    False\n",
       "Name: title, Length: 13819, dtype: bool"
      ]
     },
     "execution_count": 29,
     "metadata": {},
     "output_type": "execute_result"
    }
   ],
   "source": [
    "reddit.title.duplicated()"
   ]
  },
  {
   "cell_type": "code",
   "execution_count": null,
   "id": "625a9853",
   "metadata": {},
   "outputs": [],
   "source": []
  }
 ],
 "metadata": {
  "kernelspec": {
   "display_name": "Python 3 (ipykernel)",
   "language": "python",
   "name": "python3"
  },
  "language_info": {
   "codemirror_mode": {
    "name": "ipython",
    "version": 3
   },
   "file_extension": ".py",
   "mimetype": "text/x-python",
   "name": "python",
   "nbconvert_exporter": "python",
   "pygments_lexer": "ipython3",
   "version": "3.9.7"
  }
 },
 "nbformat": 4,
 "nbformat_minor": 5
}
