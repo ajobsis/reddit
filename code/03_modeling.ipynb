{
 "cells": [
  {
   "cell_type": "markdown",
   "id": "2d21474a",
   "metadata": {},
   "source": [
    "## Modeling"
   ]
  },
  {
   "cell_type": "code",
   "execution_count": 1,
   "id": "d5173643",
   "metadata": {},
   "outputs": [],
   "source": [
    "# imports\n",
    "import pandas as pd\n",
    "import numpy as np\n",
    "from sklearn.feature_extraction.text import TfidfVectorizer\n",
    "from sklearn.model_selection import (train_test_split, \n",
    "                                     cross_val_score,\n",
    "                                     StratifiedKFold)\n",
    "from sklearn.linear_model import LogisticRegression\n",
    "from sklearn.tree import DecisionTreeClassifier\n",
    "from sklearn.preprocessing import StandardScaler\n",
    "from sklearn.ensemble import (RandomForestClassifier, \n",
    "                                BaggingClassifier)\n",
    "\n",
    "from nltk.stem.porter import *\n",
    "from  nltk.stem import PorterStemmer\n",
    "\n",
    "from sklearn.metrics import (precision_score,\n",
    "                             f1_score,\n",
    "                             recall_score,\n",
    "                             accuracy_score,\n",
    "                             confusion_matrix,\n",
    "                             roc_curve,\n",
    "                             auc)\n",
    "\n",
    "from matplotlib import pyplot as plt\n"
   ]
  },
  {
   "cell_type": "code",
   "execution_count": 2,
   "id": "51de801f",
   "metadata": {},
   "outputs": [],
   "source": [
    "def metrics(model, X, y, tp, fn, tn, fp):\n",
    "    y_pred = model.predict(X)\n",
    "    specificity = tn / (tn + fp)\n",
    "    sensitivity = tp / (tp + fn)\n",
    "    \n",
    "    print('Precision score: {}'.format(precision_score(y, y_pred)))\n",
    "    print('Accuracy score: {}'.format(accuracy_score(y, y_pred)))\n",
    "    print('F1-score score: {}'.format(f1_score(y, y_pred)))\n",
    "    print('Sensivity score: {}'.format(recall_score(y, y_pred)))\n",
    "    print('Specificity score: {}'.format(specificity))"
   ]
  },
  {
   "cell_type": "code",
   "execution_count": 3,
   "id": "48c7e89c",
   "metadata": {},
   "outputs": [],
   "source": [
    "def score(model, name, X, y):\n",
    "    cv = StratifiedKFold(n_splits=10,\n",
    "                         random_state=73,\n",
    "                         shuffle=True)\n",
    "    s = cross_val_score(model, X, y, cv=cv,\n",
    "                        n_jobs=-1)\n",
    "    print('{} Score: {:.2f} +- {:.3f}'.format(name, \n",
    "                                              s.mean(), \n",
    "                                              2 * s.std()))"
   ]
  },
  {
   "cell_type": "code",
   "execution_count": 4,
   "id": "d7cdef70",
   "metadata": {},
   "outputs": [],
   "source": [
    "# confusion matrix\n",
    "def con_matrix(model, X, y):\n",
    "    y_pred = model.predict(X)\n",
    "    conmat = np.array(confusion_matrix(y, y_pred, labels=[1,0]))\n",
    "    return pd.DataFrame(conmat, index=['not','hot'],\n",
    "            columns=['predicted_not', 'predicted_hot'])"
   ]
  },
  {
   "cell_type": "code",
   "execution_count": 5,
   "id": "7530346d",
   "metadata": {},
   "outputs": [],
   "source": [
    "def roc_plot(model, X, y, title):\n",
    "    y_proba = model.predict_proba(X)\n",
    "    fpr, tpr, _ = roc_curve(y, y_proba[:,1], pos_label=1)\n",
    "    roc_auc = auc(fpr, tpr)\n",
    "\n",
    "\n",
    "    plt.figure(figsize=[8,8])\n",
    "    plt.plot(fpr, tpr, label='ROC curve (area = %0.2f)' % roc_auc, linewidth=4)\n",
    "    plt.plot([0, 1], [0, 1], 'k--', linewidth=4)\n",
    "    plt.xlim([-0.05, 1.0])\n",
    "    plt.ylim([-0.05, 1.05])\n",
    "    plt.xlabel('False Positive Rate', fontsize=14)\n",
    "    plt.ylabel('True Positive Rate', fontsize=14)\n",
    "    plt.title('ROC for Hot Reddits ({})'.format(title), fontsize=16)\n",
    "    plt.legend(loc=\"lower right\")\n",
    "    plt.savefig('../assets/{}.png'.format(title));"
   ]
  },
  {
   "cell_type": "markdown",
   "id": "4ed0456d",
   "metadata": {},
   "source": [
    "### Set up"
   ]
  },
  {
   "cell_type": "code",
   "execution_count": 6,
   "id": "a61808c1",
   "metadata": {},
   "outputs": [],
   "source": [
    "# load data\n",
    "reddits = pd.read_csv('../data/reddit_clean.csv')"
   ]
  },
  {
   "cell_type": "code",
   "execution_count": 7,
   "id": "368629d3",
   "metadata": {},
   "outputs": [],
   "source": [
    "# create target\n",
    "med = reddits.num_comments.median()\n",
    "reddits['num_comments'] = reddits.num_comments.apply(lambda x: 0 if x < med else 1)"
   ]
  },
  {
   "cell_type": "code",
   "execution_count": 8,
   "id": "8c9b6a53",
   "metadata": {},
   "outputs": [
    {
     "data": {
      "text/plain": [
       "0.4914066954467704"
      ]
     },
     "execution_count": 8,
     "metadata": {},
     "output_type": "execute_result"
    }
   ],
   "source": [
    "# baseline 0.4914066954467704\n",
    "1 - reddits.num_comments.mean()"
   ]
  },
  {
   "cell_type": "code",
   "execution_count": 9,
   "id": "19ceec52",
   "metadata": {},
   "outputs": [],
   "source": [
    "# stem the titles\n",
    "stemmer = PorterStemmer()\n",
    "reddits['title'] = reddits['title'].apply(lambda x: stemmer.stem(x))\n",
    "\n"
   ]
  },
  {
   "cell_type": "code",
   "execution_count": 10,
   "id": "6b1bef95",
   "metadata": {},
   "outputs": [
    {
     "data": {
      "text/plain": [
       "TfidfVectorizer(max_df=0.6, max_features=200, stop_words='english',\n",
       "                strip_accents='ascii')"
      ]
     },
     "execution_count": 10,
     "metadata": {},
     "output_type": "execute_result"
    }
   ],
   "source": [
    "## instantiate vectorizer\n",
    "tvec = TfidfVectorizer(stop_words = 'english',\n",
    "                       strip_accents = 'ascii',\n",
    "                       max_features = 200,\n",
    "                       max_df = .60,\n",
    "                       norm = 'l2'\n",
    "                      )\n",
    "tvec.fit(reddits.title)"
   ]
  },
  {
   "cell_type": "code",
   "execution_count": 11,
   "id": "1463c007",
   "metadata": {},
   "outputs": [],
   "source": [
    "# create vectorized dataframe\n",
    "reddits_tvec = pd.DataFrame(tvec.transform(reddits.title).todense(),\n",
    "                  columns = tvec.get_feature_names())"
   ]
  },
  {
   "cell_type": "code",
   "execution_count": 12,
   "id": "49447740",
   "metadata": {},
   "outputs": [],
   "source": [
    "# concat vectorized and reddit dataframes\n",
    "reddits_vect = pd.concat([reddits,reddits_tvec],axis=1)"
   ]
  },
  {
   "cell_type": "code",
   "execution_count": 49,
   "id": "3fc7d5e3",
   "metadata": {},
   "outputs": [
    {
     "data": {
      "text/html": [
       "<div>\n",
       "<style scoped>\n",
       "    .dataframe tbody tr th:only-of-type {\n",
       "        vertical-align: middle;\n",
       "    }\n",
       "\n",
       "    .dataframe tbody tr th {\n",
       "        vertical-align: top;\n",
       "    }\n",
       "\n",
       "    .dataframe thead th {\n",
       "        text-align: right;\n",
       "    }\n",
       "</style>\n",
       "<table border=\"1\" class=\"dataframe\">\n",
       "  <thead>\n",
       "    <tr style=\"text-align: right;\">\n",
       "      <th></th>\n",
       "      <th>count1</th>\n",
       "      <th>count0</th>\n",
       "      <th>diff</th>\n",
       "    </tr>\n",
       "  </thead>\n",
       "  <tbody>\n",
       "    <tr>\n",
       "      <th>new</th>\n",
       "      <td>132.289939</td>\n",
       "      <td>77.200755</td>\n",
       "      <td>55.089184</td>\n",
       "    </tr>\n",
       "    <tr>\n",
       "      <th>just</th>\n",
       "      <td>153.811444</td>\n",
       "      <td>102.749365</td>\n",
       "      <td>51.062079</td>\n",
       "    </tr>\n",
       "    <tr>\n",
       "      <th>going</th>\n",
       "      <td>45.664346</td>\n",
       "      <td>14.241357</td>\n",
       "      <td>31.422990</td>\n",
       "    </tr>\n",
       "    <tr>\n",
       "      <th>people</th>\n",
       "      <td>57.346394</td>\n",
       "      <td>27.334203</td>\n",
       "      <td>30.012191</td>\n",
       "    </tr>\n",
       "    <tr>\n",
       "      <th>game</th>\n",
       "      <td>51.139028</td>\n",
       "      <td>22.911737</td>\n",
       "      <td>28.227290</td>\n",
       "    </tr>\n",
       "  </tbody>\n",
       "</table>\n",
       "</div>"
      ],
      "text/plain": [
       "            count1      count0       diff\n",
       "new     132.289939   77.200755  55.089184\n",
       "just    153.811444  102.749365  51.062079\n",
       "going    45.664346   14.241357  31.422990\n",
       "people   57.346394   27.334203  30.012191\n",
       "game     51.139028   22.911737  28.227290"
      ]
     },
     "execution_count": 49,
     "metadata": {},
     "output_type": "execute_result"
    }
   ],
   "source": [
    "# sums of hot words vs no hot words -- used to help select X features\n",
    "reddits_greater = reddits_vect[reddits_vect.num_comments == 1].drop(['author', \n",
    "            'title','created', 'subreddit','num_comments',\n",
    "            'score', 'upvote_ratio', 'length_time',\n",
    "            'num_words', 'num_chars'], axis=1).sum().to_frame('count1')\n",
    "\n",
    "reddits_lesser = reddits_vect[reddits_vect.num_comments == 0].drop(['author', \n",
    "            'title','created', 'subreddit','num_comments',\n",
    "            'score', 'upvote_ratio', 'length_time',\n",
    "            'num_words', 'num_chars'], axis=1).sum().to_frame('count0')\n",
    "\n",
    "reddits_counts = pd.concat((reddits_greater, reddits_lesser), axis=1)\n",
    "reddits_counts['diff'] = reddits_counts.count1 - reddits_counts.count0\n",
    "reddits_counts.sort_values('diff', ascending=False).head()\n",
    "\n"
   ]
  },
  {
   "cell_type": "code",
   "execution_count": 13,
   "id": "8c16030c",
   "metadata": {},
   "outputs": [],
   "source": [
    "# instatiate X and y\n",
    "X = reddits_vect[['upvote_ratio', 'length_time','score',\n",
    "        'num_words', 'num_chars','depp','ukraine','school','police','gun',\n",
    "        'amber','pride','man','2022','gun', 'new','year',\n",
    "        'today','season','russian','hate','spoilers','free','buy',\n",
    "        'actually','work','life','fuck','shares','dog']]\n",
    "\n",
    "y = reddits_vect.num_comments.values"
   ]
  },
  {
   "cell_type": "code",
   "execution_count": 14,
   "id": "62862927",
   "metadata": {},
   "outputs": [],
   "source": [
    "# set up train test split\n",
    "X_train, X_test, y_train, y_test = train_test_split(X, y,\n",
    "                                                   test_size=.2,\n",
    "                                                   random_state=73)"
   ]
  },
  {
   "cell_type": "code",
   "execution_count": 15,
   "id": "eae868ed",
   "metadata": {},
   "outputs": [],
   "source": [
    "# standard scale the data\n",
    "ss = StandardScaler()\n",
    "ss.fit(X_train, y_train)\n",
    "X_train_scaled = ss.transform(X_train)\n",
    "X_test_scaled = ss.transform(X_test)"
   ]
  },
  {
   "cell_type": "markdown",
   "id": "b9cd1be8",
   "metadata": {},
   "source": [
    "### Logistic regression"
   ]
  },
  {
   "cell_type": "code",
   "execution_count": 16,
   "id": "afb8c404",
   "metadata": {},
   "outputs": [
    {
     "data": {
      "text/plain": [
       "LogisticRegression(C=100, random_state=73, solver='liblinear')"
      ]
     },
     "execution_count": 16,
     "metadata": {},
     "output_type": "execute_result"
    }
   ],
   "source": [
    "lr = LogisticRegression(solver='liblinear',\n",
    "                       C=100,\n",
    "                       penalty='l2',\n",
    "                       random_state=73\n",
    "                       )\n",
    "\n",
    "lr.fit(X_train_scaled, y_train)"
   ]
  },
  {
   "cell_type": "code",
   "execution_count": 17,
   "id": "2871dc06",
   "metadata": {},
   "outputs": [
    {
     "data": {
      "text/plain": [
       "{'upvote_ratio': -0.8200078093629014,\n",
       " 'length_time': 0.037374653965033616,\n",
       " 'score': 1.1847514620218527,\n",
       " 'num_words': -0.15905613886752923,\n",
       " 'num_chars': 0.5820866875975181,\n",
       " 'depp': 0.02376532202642255,\n",
       " 'ukraine': 0.025079298493961902,\n",
       " 'school': -0.017781221086861875,\n",
       " 'police': 0.08318714657745559,\n",
       " 'gun': 0.03572871268253524,\n",
       " 'amber': -0.0502452578088268,\n",
       " 'pride': 0.005304837464581517,\n",
       " 'man': 0.023461874181591316,\n",
       " '2022': 0.06954974540478347,\n",
       " 'new': 0.0937394803510012,\n",
       " 'year': 0.007299862267006491,\n",
       " 'today': 0.04484441774217166,\n",
       " 'season': 0.04724800239352754,\n",
       " 'russian': 0.05104949487184429,\n",
       " 'hate': 0.0005871279164043875,\n",
       " 'spoilers': 0.043761240930669854,\n",
       " 'free': 0.031950790964534015,\n",
       " 'buy': 0.029685066997337747,\n",
       " 'actually': 0.02091103737654615,\n",
       " 'work': -0.025178602061530126,\n",
       " 'life': -0.008187911199944876,\n",
       " 'fuck': 0.018793675599167864,\n",
       " 'shares': -0.06415604386819763,\n",
       " 'dog': -0.07304261419609813}"
      ]
     },
     "execution_count": 17,
     "metadata": {},
     "output_type": "execute_result"
    }
   ],
   "source": [
    "{feature: importance for feature, importance in zip(X.columns, lr.coef_[0])}"
   ]
  },
  {
   "cell_type": "markdown",
   "id": "5dc4b19e",
   "metadata": {},
   "source": [
    "- an increase in one standard deviation `school` is associated with 0.9823759319883832 decrease in the odds of a hot post\n",
    "\n",
    "\n",
    "- an increase in one standard deviation `num_words` is associated with 0.8529484740636472 decrease in the odds of a hot post\n",
    "\n",
    "\n",
    "- an increase in one standard deviation `year` is associated with 1.007326571212552 increase in the odds of a hot post\n",
    "\n",
    "\n",
    "- an increase in one standard deviation `pride` is associated with 1.0053189330287142 increase in the odds of a hot post\n",
    "\n",
    "\n",
    "- an increase in one standard deviation `hate` is associated with 1.052374979158927 increase in the odds of a hot post\n",
    "\n",
    "\n",
    "- an increase in one standard deviation `hate` is associated with 1.0301300609093489 increase in the odds of a hot post"
   ]
  },
  {
   "cell_type": "code",
   "execution_count": 18,
   "id": "3d5c9ab6",
   "metadata": {},
   "outputs": [
    {
     "name": "stdout",
     "output_type": "stream",
     "text": [
      "Logistic regression Score: 0.72 +- 0.033\n"
     ]
    }
   ],
   "source": [
    "# score X_train\n",
    "score(lr, 'Logistic regression', X_train_scaled, y_train)"
   ]
  },
  {
   "cell_type": "code",
   "execution_count": 19,
   "id": "026e9325",
   "metadata": {},
   "outputs": [
    {
     "name": "stdout",
     "output_type": "stream",
     "text": [
      "Logistic regression Score: 0.71 +- 0.051\n"
     ]
    }
   ],
   "source": [
    "# score X_test\n",
    "score(lr, 'Logistic regression', X_test_scaled, y_test)"
   ]
  },
  {
   "cell_type": "markdown",
   "id": "342eb53f",
   "metadata": {},
   "source": [
    "The logistic regression on both train and test data outperform the baseline (0.49) significantly, with small confidence intervals. There is a minimal drop in the r-squared score between train and test data.  "
   ]
  },
  {
   "cell_type": "code",
   "execution_count": 20,
   "id": "13165a17",
   "metadata": {},
   "outputs": [
    {
     "data": {
      "text/html": [
       "<div>\n",
       "<style scoped>\n",
       "    .dataframe tbody tr th:only-of-type {\n",
       "        vertical-align: middle;\n",
       "    }\n",
       "\n",
       "    .dataframe tbody tr th {\n",
       "        vertical-align: top;\n",
       "    }\n",
       "\n",
       "    .dataframe thead th {\n",
       "        text-align: right;\n",
       "    }\n",
       "</style>\n",
       "<table border=\"1\" class=\"dataframe\">\n",
       "  <thead>\n",
       "    <tr style=\"text-align: right;\">\n",
       "      <th></th>\n",
       "      <th>predicted_not</th>\n",
       "      <th>predicted_hot</th>\n",
       "    </tr>\n",
       "  </thead>\n",
       "  <tbody>\n",
       "    <tr>\n",
       "      <th>not</th>\n",
       "      <td>823</td>\n",
       "      <td>444</td>\n",
       "    </tr>\n",
       "    <tr>\n",
       "      <th>hot</th>\n",
       "      <td>268</td>\n",
       "      <td>921</td>\n",
       "    </tr>\n",
       "  </tbody>\n",
       "</table>\n",
       "</div>"
      ],
      "text/plain": [
       "     predicted_not  predicted_hot\n",
       "not            823            444\n",
       "hot            268            921"
      ]
     },
     "execution_count": 20,
     "metadata": {},
     "output_type": "execute_result"
    }
   ],
   "source": [
    "# confusion matrix\n",
    "con_matrix(lr, X_test_scaled, y_test)"
   ]
  },
  {
   "cell_type": "markdown",
   "id": "0a226af7",
   "metadata": {},
   "source": [
    "The true positives and true negatives out-number the false positives and false negatives.  Of most concern, is the false negatives (444), which should ideally be smaller in number."
   ]
  },
  {
   "cell_type": "code",
   "execution_count": 21,
   "id": "47535a5a",
   "metadata": {},
   "outputs": [
    {
     "name": "stdout",
     "output_type": "stream",
     "text": [
      "Precision score: 0.7543538038496792\n",
      "Accuracy score: 0.7100977198697068\n",
      "F1-score score: 0.6980491942324004\n",
      "Sensivity score: 0.6495659037095501\n",
      "Specificity score: 0.7746005046257359\n"
     ]
    }
   ],
   "source": [
    "# metrics\n",
    "metrics(lr, X_test_scaled, y_test, 823, 444, 921, 268)\n"
   ]
  },
  {
   "cell_type": "markdown",
   "id": "39028f16",
   "metadata": {},
   "source": [
    "The precision score indicates that the proportion of that which was correctly classified as positive is high, and the overall accuracy is slightly lower.  The recall (sensitivity) score indicates that the number of correctly made positive predictions (out of the total positive predictions) is moderate, while the specificity score for correctly predicting true negatives is a lot higher.  and the f1-score, measuring the model's accuracy is also moderate."
   ]
  },
  {
   "cell_type": "code",
   "execution_count": 22,
   "id": "c15fec14",
   "metadata": {},
   "outputs": [
    {
     "data": {
      "image/png": "[encoded data removed]",
      "text/plain": [
       "<Figure size 576x576 with 1 Axes>"
      ]
     },
     "metadata": {
      "needs_background": "light"
     },
     "output_type": "display_data"
    }
   ],
   "source": [
    "# plot roc\n",
    "roc_plot(lr, X_test_scaled, y_test, 'lr')"
   ]
  },
  {
   "cell_type": "markdown",
   "id": "ef5bc0e2",
   "metadata": {},
   "source": [
    "As indicated on the ROC plot, the model outperforms the baseline by a decent margin.  The ROC score is considered acceptable. "
   ]
  },
  {
   "cell_type": "markdown",
   "id": "c6c3de0d",
   "metadata": {},
   "source": [
    "### Random forest"
   ]
  },
  {
   "cell_type": "code",
   "execution_count": 23,
   "id": "97583045",
   "metadata": {},
   "outputs": [
    {
     "data": {
      "text/plain": [
       "RandomForestClassifier(min_samples_leaf=5, n_estimators=200, n_jobs=-1,\n",
       "                       random_state=73, warm_start=True)"
      ]
     },
     "execution_count": 23,
     "metadata": {},
     "output_type": "execute_result"
    }
   ],
   "source": [
    "# instantiate and fit\n",
    "rf = RandomForestClassifier(n_jobs=-1,\n",
    "                            random_state=73,\n",
    "                            n_estimators=200,\n",
    "                            min_samples_leaf=5,\n",
    "                            warm_start=True)\n",
    "rf.fit(X_train, y_train)"
   ]
  },
  {
   "cell_type": "code",
   "execution_count": 24,
   "id": "dbad1bfc",
   "metadata": {},
   "outputs": [
    {
     "data": {
      "text/plain": [
       "{'upvote_ratio': 0.23528626712352754,\n",
       " 'length_time': 0.10172738540578333,\n",
       " 'score': 0.4363718309016246,\n",
       " 'num_words': 0.0765815835550457,\n",
       " 'num_chars': 0.11481711240216437,\n",
       " 'depp': 0.0005823155990702432,\n",
       " 'ukraine': 0.001324530371884356,\n",
       " 'school': 0.0008301530682723648,\n",
       " 'police': 0.0010943493514333083,\n",
       " 'gun': 0.000939409071066473,\n",
       " 'amber': 0.00012133646524194457,\n",
       " 'pride': 0.0018123562009260176,\n",
       " 'man': 0.0016838323064131563,\n",
       " '2022': 0.0026052037432580132,\n",
       " 'new': 0.006381759493091786,\n",
       " 'year': 0.001769152357666276,\n",
       " 'today': 0.0027336707685421853,\n",
       " 'season': 0.0011652846484907458,\n",
       " 'russian': 0.0011045739943752223,\n",
       " 'hate': 0.0003085585958907999,\n",
       " 'spoilers': 0.001691676413513379,\n",
       " 'free': 0.0004959005734055888,\n",
       " 'buy': 0.00042075119094292025,\n",
       " 'actually': 0.00043968672318447786,\n",
       " 'work': 0.0016181335887222614,\n",
       " 'life': 0.000765416303870197,\n",
       " 'fuck': 0.0001897720658317611,\n",
       " 'shares': 0.0014720049656773578,\n",
       " 'dog': 0.0023614073465922734}"
      ]
     },
     "execution_count": 24,
     "metadata": {},
     "output_type": "execute_result"
    }
   ],
   "source": [
    "{feature: importance for feature, importance in zip(X.columns, rf.feature_importances_)}\n"
   ]
  },
  {
   "attachments": {},
   "cell_type": "markdown",
   "id": "26b79cd5",
   "metadata": {},
   "source": [
    "In terms of feature importance, the top features seem to be related to the reddit scrape, e.g score, upvote_ratio, number of characters, length of time, and so forth.  The top vectorized words are:  'new', 'today', '2022', 'dog', and 'pride'."
   ]
  },
  {
   "cell_type": "code",
   "execution_count": 25,
   "id": "db10ffc1",
   "metadata": {},
   "outputs": [
    {
     "name": "stdout",
     "output_type": "stream",
     "text": [
      "Random forest Score: 0.74 +- 0.031\n"
     ]
    }
   ],
   "source": [
    "# score the X_train\n",
    "score(rf, 'Random forest', X_train, y_train)"
   ]
  },
  {
   "cell_type": "code",
   "execution_count": 26,
   "id": "1b62e604",
   "metadata": {},
   "outputs": [
    {
     "name": "stdout",
     "output_type": "stream",
     "text": [
      "Random forest Score: 0.71 +- 0.033\n"
     ]
    }
   ],
   "source": [
    "# score the X_test\n",
    "score(rf, 'Random forest', X_test, y_test)"
   ]
  },
  {
   "cell_type": "markdown",
   "id": "51d188e5",
   "metadata": {},
   "source": [
    "The random forest on both train and test data outperform the baseline (0.49) significantly, with small confidence intervals. While random forest performed better than the logistic regression in the training data, there is a 3% drop in the r-squared score between train and test data.  The scores on the training data are marginally improved over the scores for the training data in the logistic regression.  "
   ]
  },
  {
   "cell_type": "code",
   "execution_count": 27,
   "id": "4d6166ba",
   "metadata": {},
   "outputs": [
    {
     "data": {
      "text/html": [
       "<div>\n",
       "<style scoped>\n",
       "    .dataframe tbody tr th:only-of-type {\n",
       "        vertical-align: middle;\n",
       "    }\n",
       "\n",
       "    .dataframe tbody tr th {\n",
       "        vertical-align: top;\n",
       "    }\n",
       "\n",
       "    .dataframe thead th {\n",
       "        text-align: right;\n",
       "    }\n",
       "</style>\n",
       "<table border=\"1\" class=\"dataframe\">\n",
       "  <thead>\n",
       "    <tr style=\"text-align: right;\">\n",
       "      <th></th>\n",
       "      <th>predicted_not</th>\n",
       "      <th>predicted_hot</th>\n",
       "    </tr>\n",
       "  </thead>\n",
       "  <tbody>\n",
       "    <tr>\n",
       "      <th>not</th>\n",
       "      <td>926</td>\n",
       "      <td>341</td>\n",
       "    </tr>\n",
       "    <tr>\n",
       "      <th>hot</th>\n",
       "      <td>307</td>\n",
       "      <td>882</td>\n",
       "    </tr>\n",
       "  </tbody>\n",
       "</table>\n",
       "</div>"
      ],
      "text/plain": [
       "     predicted_not  predicted_hot\n",
       "not            926            341\n",
       "hot            307            882"
      ]
     },
     "execution_count": 27,
     "metadata": {},
     "output_type": "execute_result"
    }
   ],
   "source": [
    "# confusion matrix\n",
    "con_matrix(rf, X_test, y_test)"
   ]
  },
  {
   "cell_type": "markdown",
   "id": "5aaee664",
   "metadata": {},
   "source": [
    "The true positives and true negatives out-number the false positives and false negatives.  The random forest model has more true positives than the logistic regression, but less true negatives.  The false negative values are better in random forest, however the false positives are higher than that of the logistic regression."
   ]
  },
  {
   "cell_type": "code",
   "execution_count": 28,
   "id": "e4c87b2f",
   "metadata": {},
   "outputs": [
    {
     "name": "stdout",
     "output_type": "stream",
     "text": [
      "Precision score: 0.7510137875101379\n",
      "Accuracy score: 0.7361563517915309\n",
      "F1-score score: 0.7408\n",
      "Sensivity score: 0.7308602999210734\n",
      "Specificity score: 0.7417998317914214\n"
     ]
    }
   ],
   "source": [
    "# metrics\n",
    "metrics(rf, X_test, y_test, 926, 341, 882, 307)"
   ]
  },
  {
   "cell_type": "markdown",
   "id": "7411f4a4",
   "metadata": {},
   "source": [
    "The precision score measuring the the proportion of that which was classified positive correctly, is slightly lower in this model as compared to the logistical regression model, but the overall accuracy is higher.  However, the sensivity and f1-scores are higher in the random forest model. Note that specificity is higher in the logistic regression."
   ]
  },
  {
   "cell_type": "code",
   "execution_count": 29,
   "id": "bd2a6ed9",
   "metadata": {},
   "outputs": [
    {
     "data": {
      "image/png": "[encoded data removed]",
      "text/plain": [
       "<Figure size 576x576 with 1 Axes>"
      ]
     },
     "metadata": {
      "needs_background": "light"
     },
     "output_type": "display_data"
    }
   ],
   "source": [
    "# plot roc\n",
    "roc_plot(rf, X_test, y_test, 'rf')"
   ]
  },
  {
   "cell_type": "markdown",
   "id": "62588c74",
   "metadata": {},
   "source": [
    "As indicated on the ROC plot, the model outperforms the baseline by a decent margin.  The ROC score is considered acceptable. The random forest ROC score is slightly higher than the logistic regression ROC score. "
   ]
  },
  {
   "cell_type": "markdown",
   "id": "4f87d857",
   "metadata": {},
   "source": [
    "### Bagging"
   ]
  },
  {
   "cell_type": "code",
   "execution_count": 30,
   "id": "c031428f",
   "metadata": {},
   "outputs": [
    {
     "data": {
      "text/plain": [
       "BaggingClassifier(base_estimator=DecisionTreeClassifier(class_weight='balanced',\n",
       "                                                        random_state=73),\n",
       "                  n_estimators=200, n_jobs=-1, random_state=73)"
      ]
     },
     "execution_count": 30,
     "metadata": {},
     "output_type": "execute_result"
    }
   ],
   "source": [
    "# instantiate \n",
    "dt = DecisionTreeClassifier(random_state=73,\n",
    "                            class_weight='balanced',)\n",
    "bdt = BaggingClassifier(dt,\n",
    "                        random_state=73,\n",
    "                        n_jobs=-1,\n",
    "                        n_estimators=200)\n",
    "\n",
    "bdt.fit(X_train, y_train)"
   ]
  },
  {
   "cell_type": "code",
   "execution_count": 31,
   "id": "3956ab7c",
   "metadata": {},
   "outputs": [
    {
     "data": {
      "text/plain": [
       "{'upvote_ratio': 0.13466007407834174,\n",
       " 'length_time': 0.2003537819746975,\n",
       " 'score': 0.36833394887951326,\n",
       " 'num_words': 0.07415536338807537,\n",
       " 'num_chars': 0.16858096447205173,\n",
       " 'depp': 0.0012918630911318897,\n",
       " 'ukraine': 0.0019523196876884248,\n",
       " 'school': 0.0016235509244028514,\n",
       " 'police': 0.0005505709592295933,\n",
       " 'gun': 0.0007448192989551651,\n",
       " 'amber': 0.001140572326407654,\n",
       " 'pride': 0.0031629922612237556,\n",
       " 'man': 0.002915435426367255,\n",
       " '2022': 0.003879305848006841,\n",
       " 'new': 0.007617446712973752,\n",
       " 'year': 0.0032729080608757,\n",
       " 'today': 0.0046171257418472465,\n",
       " 'season': 0.0026165907978393937,\n",
       " 'russian': 0.0009036868055837397,\n",
       " 'hate': 0.0009789230933973045,\n",
       " 'spoilers': 0.0017118654808965387,\n",
       " 'free': 0.0012618707317949781,\n",
       " 'buy': 0.0021338916389137415,\n",
       " 'actually': 0.0011097705978480932,\n",
       " 'work': 0.002464927665205185,\n",
       " 'life': 0.0018605697658369324,\n",
       " 'fuck': 0.0011046700948986509,\n",
       " 'shares': 0.0018591971343808033,\n",
       " 'dog': 0.0023794892692384395}"
      ]
     },
     "execution_count": 31,
     "metadata": {},
     "output_type": "execute_result"
    }
   ],
   "source": [
    "# https://stackoverflow.com/questions/44333573/feature-importances-bagging-scikit-learn\n",
    "\n",
    "feature_importances = np.mean([\n",
    "    tree.feature_importances_ for tree in bdt.estimators_\n",
    "], axis=0)\n",
    "\n",
    "{feature: importance for feature, importance in zip(X.columns, \n",
    "                            feature_importances)}\n",
    "\n"
   ]
  },
  {
   "attachments": {},
   "cell_type": "markdown",
   "id": "03a23fe6",
   "metadata": {},
   "source": [
    "Similarly to the random forest, the top important features come from webscraping features such as score and upvote ratio.  In terms of vectorized words, the most popular are:  'new', 'today', '2022', 'year' and 'pride'."
   ]
  },
  {
   "cell_type": "code",
   "execution_count": 32,
   "id": "5d007edb",
   "metadata": {},
   "outputs": [
    {
     "name": "stdout",
     "output_type": "stream",
     "text": [
      "Bagging Score: 0.71 +- 0.028\n"
     ]
    }
   ],
   "source": [
    "# score X_train\n",
    "score(bdt, 'Bagging', X_train, y_train)"
   ]
  },
  {
   "cell_type": "code",
   "execution_count": 33,
   "id": "91b13b91",
   "metadata": {},
   "outputs": [
    {
     "name": "stdout",
     "output_type": "stream",
     "text": [
      "Bagging Score: 0.71 +- 0.033\n"
     ]
    }
   ],
   "source": [
    "# score X_test\n",
    "score(bdt, 'Bagging', X_test, y_test)"
   ]
  },
  {
   "cell_type": "markdown",
   "id": "766d5a96",
   "metadata": {},
   "source": [
    "The bagging model on both train and test data outperform the baseline (0.49) significantly, with small confidence intervals. The bagging model has the worst performing training r-squared scores, while the r-squared scores for testing data are about comparable to the r-squared scores of the random forest test scores. "
   ]
  },
  {
   "cell_type": "code",
   "execution_count": 34,
   "id": "f29cef30",
   "metadata": {},
   "outputs": [
    {
     "data": {
      "text/html": [
       "<div>\n",
       "<style scoped>\n",
       "    .dataframe tbody tr th:only-of-type {\n",
       "        vertical-align: middle;\n",
       "    }\n",
       "\n",
       "    .dataframe tbody tr th {\n",
       "        vertical-align: top;\n",
       "    }\n",
       "\n",
       "    .dataframe thead th {\n",
       "        text-align: right;\n",
       "    }\n",
       "</style>\n",
       "<table border=\"1\" class=\"dataframe\">\n",
       "  <thead>\n",
       "    <tr style=\"text-align: right;\">\n",
       "      <th></th>\n",
       "      <th>predicted_not</th>\n",
       "      <th>predicted_hot</th>\n",
       "    </tr>\n",
       "  </thead>\n",
       "  <tbody>\n",
       "    <tr>\n",
       "      <th>not</th>\n",
       "      <td>900</td>\n",
       "      <td>367</td>\n",
       "    </tr>\n",
       "    <tr>\n",
       "      <th>hot</th>\n",
       "      <td>337</td>\n",
       "      <td>852</td>\n",
       "    </tr>\n",
       "  </tbody>\n",
       "</table>\n",
       "</div>"
      ],
      "text/plain": [
       "     predicted_not  predicted_hot\n",
       "not            900            367\n",
       "hot            337            852"
      ]
     },
     "execution_count": 34,
     "metadata": {},
     "output_type": "execute_result"
    }
   ],
   "source": [
    "# confusion matrix\n",
    "con_matrix(bdt, X_test, y_test)"
   ]
  },
  {
   "cell_type": "markdown",
   "id": "842ee2ee",
   "metadata": {},
   "source": [
    "The true positives and true negatives are higher than the false negatives and false positives.  The true positives in bagging outperform the true positives in the logistic regression (but not the random forest model), however the true negatives perform worse than the logistic and random forest models.  The false positives and false negatives are worse in this model than the random forest model.  "
   ]
  },
  {
   "cell_type": "code",
   "execution_count": 35,
   "id": "ec073abe",
   "metadata": {},
   "outputs": [
    {
     "name": "stdout",
     "output_type": "stream",
     "text": [
      "Precision score: 0.7275666936135813\n",
      "Accuracy score: 0.7133550488599348\n",
      "F1-score score: 0.7188498402555911\n",
      "Sensivity score: 0.7103393843725335\n",
      "Specificity score: 0.7165685449957948\n"
     ]
    }
   ],
   "source": [
    "# metrics\n",
    "metrics(bdt, X_test, y_test, 900, 367, 852, 337)"
   ]
  },
  {
   "cell_type": "markdown",
   "id": "3d50efd5",
   "metadata": {},
   "source": [
    "The precision score in the bagging model is lower than the precision scores for the random forest and logistic models, respectively, and the accuracy score is higher than logistic regression, but lower than random forest.  The sensitivy score is better than the logistic regression model, but worse than the random forest model.  The same is true of the f1-score: it peforms worse compared to the random forest model, but better than the logistic regression model. The specificity score is worse in this model than the other two."
   ]
  },
  {
   "cell_type": "code",
   "execution_count": 36,
   "id": "0f14d96a",
   "metadata": {},
   "outputs": [
    {
     "data": {
      "image/png": "[encoded data removed]",
      "text/plain": [
       "<Figure size 576x576 with 1 Axes>"
      ]
     },
     "metadata": {
      "needs_background": "light"
     },
     "output_type": "display_data"
    }
   ],
   "source": [
    "# plot roc\n",
    "roc_plot(bdt, X_test, y_test, 'bagging')"
   ]
  },
  {
   "cell_type": "markdown",
   "id": "9d94eef2",
   "metadata": {},
   "source": [
    "As indicated on the ROC plot, the model outperforms the baseline by a decent margin.  The ROC score is considered acceptable. The bagging ROC score is slightly lower than bogth the random forest and logistic regression models. "
   ]
  },
  {
   "cell_type": "markdown",
   "id": "aebd7c24",
   "metadata": {},
   "source": [
    "### Conclusions"
   ]
  },
  {
   "cell_type": "markdown",
   "id": "99591a31",
   "metadata": {},
   "source": [
    "The models all had varying results in terms of the weight given to words that impacted the modeling.  The logistic regression model favored words such as 'hate', 'pride', 'actually' and 'year'.  The random forest model favored words such as 'upvote_ratio', 'num_chars', 'new', 'pride', and 'dog'.  The bagging model favored words such as 'upvote_ratio', 'new', 'year', 'pride', and '2022'. 'Pride' was common to all three models, while 'year' was common to the bagging and the logistic regression models.  \n",
    "\n",
    "When selecting words to pass into the model, there were certain words that increased the scores.  Newsworthy words such as 'ukraine' and 'depp' tended to boost the scores.  Topical words such as '2022' and 'pride' also helped increase the scores.  Interestingly enough, 'dog' increased the scores, whilst 'cat' decreased them.  The biggest predictive power by far came from the reddit score, which is the popularity of a reddit post (as measured by number of upvotes).  Words such as 'spoiler' and 'season' also seemed to boost the scores. \n",
    "\n",
    "In addition, when looking at popular subreddits, political-themed subreddits proved to be very popular (as measured by the numbers of comments).  This aligns with what I found when tuning the model: words that reflected the \"news of the day\" proved to be effective predictors.  \n",
    "\n",
    "As far as models go, random forest generally performed better than the other two models (logistic and bagging).  It allowed the most tuning of the r-squared score, continually improving the scores whereas the other models hit a point of diminishing returns. It also had the best training scores of all three models (though it should be noted that it tied with the bagging model for test data scores).  \n",
    "\n",
    "In terms of metrics, the random forest model had the best overall accuracy score, as well as the best sensitivity and f1-scores.  The logistic regression model, on the other hand, had the best precision and specificity scores. The bagging model performed the worst of the three.  \n",
    "\n",
    "My recommendation, therefore, is to use the random forest model.  In terms of what characteristics have the most predictive power for overall interaction, as mentioned above, political and newsworthy terms seemed to effective predictors.  Reddits about Ukraine, the school shooting, and the Depp/Heard defamation suit were all good predictors, as well as temporal words like 'time', 'year', '2020', and 'today.  Finally, words related to the entertainment medium such as 'spoiler' and 'season' seemed to be good predictors too."
   ]
  },
  {
   "cell_type": "code",
   "execution_count": null,
   "id": "4ee4cf57",
   "metadata": {},
   "outputs": [],
   "source": []
  }
 ],
 "metadata": {
  "kernelspec": {
   "display_name": "Python 3 (ipykernel)",
   "language": "python",
   "name": "python3"
  },
  "language_info": {
   "codemirror_mode": {
    "name": "ipython",
    "version": 3
   },
   "file_extension": ".py",
   "mimetype": "text/x-python",
   "name": "python",
   "nbconvert_exporter": "python",
   "pygments_lexer": "ipython3",
   "version": "3.9.7"
  }
 },
 "nbformat": 4,
 "nbformat_minor": 5
}
